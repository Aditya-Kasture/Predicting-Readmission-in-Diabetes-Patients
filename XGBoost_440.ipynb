{
  "cells": [
    {
      "cell_type": "code",
      "execution_count": null,
      "metadata": {
        "colab": {
          "base_uri": "https://localhost:8080/",
          "height": 1000
        },
        "id": "tbHx2Td_zxO6",
        "outputId": "b6d88284-8d60-41a4-a14e-80dfc040a380"
      },
      "outputs": [
        {
          "name": "stdout",
          "output_type": "stream",
          "text": [
            "Collecting pandas\n",
            "  Downloading pandas-2.2.3-cp311-cp311-manylinux_2_17_x86_64.manylinux2014_x86_64.whl.metadata (89 kB)\n",
            "\u001b[2K     \u001b[90m━━━━━━━━━━━━━━━━━━━━━━━━━━━━━━━━━━━━━━━━\u001b[0m \u001b[32m89.9/89.9 kB\u001b[0m \u001b[31m2.5 MB/s\u001b[0m eta \u001b[36m0:00:00\u001b[0m\n",
            "\u001b[?25hCollecting numpy>=1.23.2 (from pandas)\n",
            "  Downloading numpy-2.2.4-cp311-cp311-manylinux_2_17_x86_64.manylinux2014_x86_64.whl.metadata (62 kB)\n",
            "\u001b[2K     \u001b[90m━━━━━━━━━━━━━━━━━━━━━━━━━━━━━━━━━━━━━━━━\u001b[0m \u001b[32m62.0/62.0 kB\u001b[0m \u001b[31m3.5 MB/s\u001b[0m eta \u001b[36m0:00:00\u001b[0m\n",
            "\u001b[?25hCollecting python-dateutil>=2.8.2 (from pandas)\n",
            "  Downloading python_dateutil-2.9.0.post0-py2.py3-none-any.whl.metadata (8.4 kB)\n",
            "Collecting pytz>=2020.1 (from pandas)\n",
            "  Downloading pytz-2025.2-py2.py3-none-any.whl.metadata (22 kB)\n",
            "Collecting tzdata>=2022.7 (from pandas)\n",
            "  Downloading tzdata-2025.2-py2.py3-none-any.whl.metadata (1.4 kB)\n",
            "Collecting six>=1.5 (from python-dateutil>=2.8.2->pandas)\n",
            "  Downloading six-1.17.0-py2.py3-none-any.whl.metadata (1.7 kB)\n",
            "Downloading pandas-2.2.3-cp311-cp311-manylinux_2_17_x86_64.manylinux2014_x86_64.whl (13.1 MB)\n",
            "\u001b[2K   \u001b[90m━━━━━━━━━━━━━━━━━━━━━━━━━━━━━━━━━━━━━━━━\u001b[0m \u001b[32m13.1/13.1 MB\u001b[0m \u001b[31m52.0 MB/s\u001b[0m eta \u001b[36m0:00:00\u001b[0m\n",
            "\u001b[?25hDownloading numpy-2.2.4-cp311-cp311-manylinux_2_17_x86_64.manylinux2014_x86_64.whl (16.4 MB)\n",
            "\u001b[2K   \u001b[90m━━━━━━━━━━━━━━━━━━━━━━━━━━━━━━━━━━━━━━━━\u001b[0m \u001b[32m16.4/16.4 MB\u001b[0m \u001b[31m95.9 MB/s\u001b[0m eta \u001b[36m0:00:00\u001b[0m\n",
            "\u001b[?25hDownloading python_dateutil-2.9.0.post0-py2.py3-none-any.whl (229 kB)\n",
            "\u001b[2K   \u001b[90m━━━━━━━━━━━━━━━━━━━━━━━━━━━━━━━━━━━━━━━━\u001b[0m \u001b[32m229.9/229.9 kB\u001b[0m \u001b[31m14.2 MB/s\u001b[0m eta \u001b[36m0:00:00\u001b[0m\n",
            "\u001b[?25hDownloading pytz-2025.2-py2.py3-none-any.whl (509 kB)\n",
            "\u001b[2K   \u001b[90m━━━━━━━━━━━━━━━━━━━━━━━━━━━━━━━━━━━━━━━━\u001b[0m \u001b[32m509.2/509.2 kB\u001b[0m \u001b[31m13.8 MB/s\u001b[0m eta \u001b[36m0:00:00\u001b[0m\n",
            "\u001b[?25hDownloading tzdata-2025.2-py2.py3-none-any.whl (347 kB)\n",
            "\u001b[2K   \u001b[90m━━━━━━━━━━━━━━━━━━━━━━━━━━━━━━━━━━━━━━━━\u001b[0m \u001b[32m347.8/347.8 kB\u001b[0m \u001b[31m19.9 MB/s\u001b[0m eta \u001b[36m0:00:00\u001b[0m\n",
            "\u001b[?25hDownloading six-1.17.0-py2.py3-none-any.whl (11 kB)\n",
            "Installing collected packages: pytz, tzdata, six, numpy, python-dateutil, pandas\n",
            "  Attempting uninstall: pytz\n",
            "    Found existing installation: pytz 2025.2\n",
            "    Uninstalling pytz-2025.2:\n",
            "      Successfully uninstalled pytz-2025.2\n",
            "  Attempting uninstall: tzdata\n",
            "    Found existing installation: tzdata 2025.2\n",
            "    Uninstalling tzdata-2025.2:\n",
            "      Successfully uninstalled tzdata-2025.2\n",
            "  Attempting uninstall: six\n",
            "    Found existing installation: six 1.17.0\n",
            "    Uninstalling six-1.17.0:\n",
            "      Successfully uninstalled six-1.17.0\n",
            "  Attempting uninstall: numpy\n",
            "    Found existing installation: numpy 2.0.2\n",
            "    Uninstalling numpy-2.0.2:\n",
            "      Successfully uninstalled numpy-2.0.2\n",
            "  Attempting uninstall: python-dateutil\n",
            "    Found existing installation: python-dateutil 2.8.2\n",
            "    Uninstalling python-dateutil-2.8.2:\n",
            "      Successfully uninstalled python-dateutil-2.8.2\n",
            "  Attempting uninstall: pandas\n",
            "    Found existing installation: pandas 2.2.2\n",
            "    Uninstalling pandas-2.2.2:\n",
            "      Successfully uninstalled pandas-2.2.2\n",
            "\u001b[31mERROR: pip's dependency resolver does not currently take into account all the packages that are installed. This behaviour is the source of the following dependency conflicts.\n",
            "google-colab 1.0.0 requires pandas==2.2.2, but you have pandas 2.2.3 which is incompatible.\n",
            "numba 0.60.0 requires numpy<2.1,>=1.22, but you have numpy 2.2.4 which is incompatible.\n",
            "tensorflow 2.18.0 requires numpy<2.1.0,>=1.26.0, but you have numpy 2.2.4 which is incompatible.\u001b[0m\u001b[31m\n",
            "\u001b[0mSuccessfully installed numpy-2.2.4 pandas-2.2.3 python-dateutil-2.9.0.post0 pytz-2025.2 six-1.17.0 tzdata-2025.2\n"
          ]
        },
        {
          "data": {
            "application/vnd.colab-display-data+json": {
              "id": "eca7cdc2a7c948eb80bb8db8735ff2fc",
              "pip_warning": {
                "packages": [
                  "dateutil",
                  "six"
                ]
              }
            }
          },
          "metadata": {},
          "output_type": "display_data"
        }
      ],
      "source": [
        "!pip install --upgrade --force-reinstall pandas"
      ]
    },
    {
      "cell_type": "code",
      "execution_count": null,
      "metadata": {
        "id": "vu9T2UkM0Tup"
      },
      "outputs": [],
      "source": [
        "# Run before running any model below (seperated models into 3 code blocks)\n",
        "import pandas as pd\n",
        "import numpy as np\n",
        "from sklearn.model_selection import train_test_split\n",
        "from sklearn.compose import ColumnTransformer\n",
        "from sklearn.preprocessing import StandardScaler, OneHotEncoder\n",
        "\n",
        "# Load Data\n",
        "df = pd.read_csv('diabetic_dataset_v1_label_encoded.csv')\n",
        "\n",
        "# Fill missing categorical values\n",
        "df[['max_glu_serum', 'A1Cresult']] = df[['max_glu_serum', 'A1Cresult']].apply(lambda x: x.fillna(x.mode()[0]))\n",
        "\n",
        "categorical_columns = [\n",
        "    'gender', 'age', 'diag_1', 'diag_2', 'diag_3', 'max_glu_serum',\n",
        "    'A1Cresult', 'metformin', 'repaglinide', 'nateglinide', 'chlorpropamide',\n",
        "    'glimepiride', 'acetohexamide', 'glipizide', 'glyburide', 'tolbutamide',\n",
        "    'pioglitazone', 'rosiglitazone', 'acarbose', 'miglitol', 'troglitazone',\n",
        "    'tolazamide', 'examide', 'citoglipton', 'insulin', 'glyburide-metformin',\n",
        "    'glipizide-metformin', 'glimepiride-pioglitazone', 'metformin-rosiglitazone',\n",
        "    'metformin-pioglitazone', 'change', 'diabetesMed'\n",
        "]\n",
        "df[categorical_columns] = df[categorical_columns].astype(str)\n",
        "\n",
        "numerical_columns = [\n",
        "    'admission_type_id', 'discharge_disposition_id', 'admission_source_id',\n",
        "    'time_in_hospital', 'num_lab_procedures', 'num_procedures', 'num_medications',\n",
        "    'number_outpatient', 'number_emergency', 'number_inpatient', 'number_diagnoses'\n",
        "]\n",
        "\n",
        "X = df.drop(columns=['readmitted'])\n",
        "y = df['readmitted']\n",
        "\n",
        "X_train, X_test, y_train, y_test = train_test_split(\n",
        "    X, y, test_size=0.2, random_state=42, stratify=y\n",
        ")\n",
        "\n",
        "preprocessor = ColumnTransformer(\n",
        "    transformers=[\n",
        "        ('num', StandardScaler(), numerical_columns),\n",
        "        ('cat', OneHotEncoder(handle_unknown='ignore', sparse_output=False), categorical_columns)\n",
        "    ]\n",
        ")\n"
      ]
    },
    {
      "cell_type": "code",
      "execution_count": null,
      "metadata": {
        "colab": {
          "base_uri": "https://localhost:8080/"
        },
        "id": "OPCCxklG2vkD",
        "outputId": "f3b1b255-cbdd-4f15-91b3-2beae444da9a"
      },
      "outputs": [
        {
          "name": "stderr",
          "output_type": "stream",
          "text": [
            "/usr/local/lib/python3.11/dist-packages/xgboost/core.py:158: UserWarning: [01:08:06] WARNING: /workspace/src/learner.cc:740: \n",
            "Parameters: { \"use_label_encoder\" } are not used.\n",
            "\n",
            "  warnings.warn(smsg, UserWarning)\n"
          ]
        },
        {
          "name": "stdout",
          "output_type": "stream",
          "text": [
            "XGBoost Classification Report:\n",
            "Accuracy: 0.888375749238479\n",
            "F1 Score: 0.4882064663455239\n",
            "Recall Score: 0.508058065732567\n"
          ]
        }
      ],
      "source": [
        "# XGBoost model\n",
        "from xgboost import XGBClassifier # import XGBClassifier from xgboost library\n",
        "from sklearn.pipeline import Pipeline # Import Pipeline from sklearn.pipeline\n",
        "from sklearn.preprocessing import LabelEncoder # Import LabelEncoder for target variable encoding\n",
        "\n",
        "# Create a LabelEncoder object\n",
        "label_encoder = LabelEncoder()\n",
        "\n",
        "# Fit the encoder to your training target variable and transform it\n",
        "y_train_encoded = label_encoder.fit_transform(y_train)\n",
        "\n",
        "# Transform your test target variable using the trained encoder\n",
        "y_test_encoded = label_encoder.transform(y_test)\n",
        "\n",
        "xgb_model = XGBClassifier(use_label_encoder=False, eval_metric='logloss', random_state=42)\n",
        "\n",
        "# Pipeline\n",
        "xgb_pipeline = Pipeline(steps=[\n",
        "    ('preprocessor', preprocessor),\n",
        "    ('classifier', xgb_model)\n",
        "])\n",
        "\n",
        "# Train using the encoded target variable\n",
        "xgb_pipeline.fit(X_train, y_train_encoded)\n",
        "\n",
        "# Predict\n",
        "y_pred_xgb = xgb_pipeline.predict(X_test)\n",
        "\n",
        "# Evaluate\n",
        "# Assuming classification_report, accuracy_score, f1_score, recall_score are defined and imported.\n",
        "# Use label_encoder.classes_ to get the original class names for the report\n",
        "from sklearn.metrics import classification_report, accuracy_score, f1_score , recall_score # Import necessary metrics\n",
        "\n",
        "print(\"XGBoost Classification Report:\")\n",
        "#print(classification_report(y_test_encoded, y_pred_xgb, target_names=label_encoder.classes_)) # Use original class names\n",
        "print(\"Accuracy:\", accuracy_score(y_test_encoded, y_pred_xgb))\n",
        "#print(\"F1 Score:\", f1_score(y_pred_xgb, average='macro'))\n",
        "#print(\"Recall Score:\", recall_score(y_pred_xgb, average='macro'))\n",
        "print(\"F1 Score:\", f1_score(y_test_encoded, y_pred_xgb, average='macro')) # Added y_test_encoded as the first argument\n",
        "print(\"Recall Score:\", recall_score(y_test_encoded, y_pred_xgb, average='macro')) # Added y_test_encoded as the first argument"
      ]
    },
    {
      "cell_type": "code",
      "execution_count": null,
      "metadata": {
        "colab": {
          "background_save": true,
          "base_uri": "https://localhost:8080/"
        },
        "id": "wq112atLyQad",
        "outputId": "87a0cc96-4f32-4428-bd4e-039db42fc92a"
      },
      "outputs": [
        {
          "name": "stdout",
          "output_type": "stream",
          "text": [
            "Fitting 3 folds for each of 50 candidates, totalling 150 fits\n"
          ]
        },
        {
          "name": "stderr",
          "output_type": "stream",
          "text": [
            "/usr/local/lib/python3.11/dist-packages/xgboost/core.py:158: UserWarning: [00:05:58] WARNING: /workspace/src/learner.cc:740: \n",
            "Parameters: { \"use_label_encoder\" } are not used.\n",
            "\n",
            "  warnings.warn(smsg, UserWarning)\n"
          ]
        },
        {
          "name": "stdout",
          "output_type": "stream",
          "text": [
            "XGBoost Recall: 0.8886214011987815\n",
            "XGBoost F1 Score: 0.8375407359322201\n"
          ]
        },
        {
          "data": {
            "image/png": "[encoded data removed]",
            "text/plain": [
              "<Figure size 640x480 with 2 Axes>"
            ]
          },
          "metadata": {},
          "output_type": "display_data"
        }
      ],
      "source": [
        "from imblearn.pipeline import Pipeline\n",
        "from xgboost import XGBClassifier\n",
        "from sklearn.model_selection import StratifiedKFold, RandomizedSearchCV\n",
        "from scipy.stats import randint, uniform\n",
        "from sklearn.metrics import recall_score, f1_score, confusion_matrix\n",
        "import seaborn as sns\n",
        "import matplotlib.pyplot as plt\n",
        "\n",
        "# Updated pipeline with XGBoost\n",
        "pipeline_xgb = Pipeline([\n",
        "    ('preprocessor', preprocessor),\n",
        "    ('classifier', XGBClassifier(\n",
        "        use_label_encoder=False,\n",
        "        eval_metric='logloss',\n",
        "        random_state=42\n",
        "    ))\n",
        "])\n",
        "\n",
        "# Hyperparameter tuning space for XGBoost\n",
        "param_dist_xgb = {\n",
        "    \"classifier__n_estimators\": randint(100, 500),\n",
        "    \"classifier__max_depth\": randint(3, 10),\n",
        "    \"classifier__learning_rate\": uniform(0.01, 0.3),\n",
        "    \"classifier__subsample\": uniform(0.5, 0.5),\n",
        "    \"classifier__colsample_bytree\": uniform(0.5, 0.5)\n",
        "}\n",
        "\n",
        "# Stratified cross-validation\n",
        "cv = StratifiedKFold(n_splits=3, shuffle=True, random_state=42)\n",
        "\n",
        "# Randomized SearchCV\n",
        "search_xgb = RandomizedSearchCV(\n",
        "    estimator=pipeline_xgb,\n",
        "    param_distributions=param_dist_xgb,\n",
        "    n_iter=50,\n",
        "    cv=cv,\n",
        "    verbose=2,\n",
        "    random_state=42,\n",
        "    n_jobs=-1\n",
        ")\n",
        "\n",
        "# Fit model\n",
        "search_xgb.fit(X_train, y_train)\n",
        "best_xgb = search_xgb.best_estimator_\n",
        "\n",
        "# Predict\n",
        "y_pred_xgb = best_xgb.predict(X_test)\n",
        "\n",
        "# Metrics\n",
        "print(\"XGBoost Recall:\", recall_score(y_test, y_pred_xgb, average='weighted'))\n",
        "print(\"XGBoost F1 Score:\", f1_score(y_test, y_pred_xgb, average='weighted'))\n",
        "\n",
        "# Confusion Matrix\n",
        "cm = confusion_matrix(y_test, y_pred_xgb)\n",
        "sns.heatmap(cm, annot=True, fmt='d', cmap='Blues')\n",
        "plt.title(\"XGBoost Confusion Matrix\")\n",
        "plt.xlabel(\"Predicted\")\n",
        "plt.ylabel(\"Actual\")\n",
        "plt.show()\n"
      ]
    },
    {
      "cell_type": "code",
      "execution_count": null,
      "metadata": {
        "colab": {
          "base_uri": "https://localhost:8080/",
          "height": 611
        },
        "id": "eNY_K3xeYjQX",
        "outputId": "7dfdb3ec-aada-41fd-8158-b8d487b393c0"
      },
      "outputs": [
        {
          "name": "stdout",
          "output_type": "stream",
          "text": [
            "Fitting 3 folds for each of 50 candidates, totalling 150 fits\n"
          ]
        },
        {
          "name": "stderr",
          "output_type": "stream",
          "text": [
            "/usr/local/lib/python3.11/dist-packages/xgboost/core.py:158: UserWarning: [03:31:39] WARNING: /workspace/src/learner.cc:740: \n",
            "Parameters: { \"use_label_encoder\" } are not used.\n",
            "\n",
            "  warnings.warn(smsg, UserWarning)\n"
          ]
        },
        {
          "name": "stdout",
          "output_type": "stream",
          "text": [
            "XGBoost Recall: 0.8886214011987815\n",
            "XGBoost F1 Score: 0.8375407359322201\n"
          ]
        },
        {
          "data": {
            "image/png": "[encoded data removed]",
            "text/plain": [
              "<Figure size 640x480 with 2 Axes>"
            ]
          },
          "metadata": {},
          "output_type": "display_data"
        }
      ],
      "source": [
        "from imblearn.pipeline import Pipeline\n",
        "from xgboost import XGBClassifier\n",
        "from sklearn.model_selection import StratifiedKFold, RandomizedSearchCV\n",
        "from scipy.stats import randint, uniform\n",
        "from sklearn.metrics import recall_score, f1_score, confusion_matrix\n",
        "import seaborn as sns\n",
        "import matplotlib.pyplot as plt\n",
        "from sklearn.preprocessing import LabelEncoder # Import LabelEncoder for target variable encoding\n",
        "\n",
        "# Updated pipeline with XGBoost\n",
        "pipeline_xgb = Pipeline([\n",
        "    ('preprocessor', preprocessor),\n",
        "    ('classifier', XGBClassifier(\n",
        "        use_label_encoder=False,\n",
        "        eval_metric='logloss',\n",
        "        random_state=42\n",
        "    ))\n",
        "])\n",
        "\n",
        "# Hyperparameter tuning space for XGBoost\n",
        "param_dist_xgb = {\n",
        "    \"classifier__n_estimators\": randint(100, 500),\n",
        "    \"classifier__max_depth\": randint(3, 10),\n",
        "    \"classifier__learning_rate\": uniform(0.01, 0.3),\n",
        "    \"classifier__subsample\": uniform(0.5, 0.5),\n",
        "    \"classifier__colsample_bytree\": uniform(0.5, 0.5)\n",
        "}\n",
        "\n",
        "# Stratified cross-validation\n",
        "cv = StratifiedKFold(n_splits=3, shuffle=True, random_state=42)\n",
        "\n",
        "# Randomized SearchCV\n",
        "search_xgb = RandomizedSearchCV(\n",
        "    estimator=pipeline_xgb,\n",
        "    param_distributions=param_dist_xgb,\n",
        "    n_iter=50,\n",
        "    cv=cv,\n",
        "    verbose=2,\n",
        "    random_state=42,\n",
        "    n_jobs=-1\n",
        ")\n",
        "\n",
        "# Create a LabelEncoder object\n",
        "label_encoder = LabelEncoder()\n",
        "\n",
        "# Fit the encoder to your training target variable and transform it\n",
        "y_train_encoded = label_encoder.fit_transform(y_train)\n",
        "\n",
        "# Transform your test target variable using the trained encoder\n",
        "y_test_encoded = label_encoder.transform(y_test)\n",
        "\n",
        "# Fit model using the encoded target variable\n",
        "search_xgb.fit(X_train, y_train_encoded) # Use y_train_encoded here\n",
        "best_xgb = search_xgb.best_estimator_\n",
        "\n",
        "# Predict\n",
        "y_pred_xgb = best_xgb.predict(X_test)\n",
        "\n",
        "# Metrics - Use y_test_encoded for evaluation\n",
        "print(\"XGBoost Recall:\", recall_score(y_test_encoded, y_pred_xgb, average='weighted')) # Use y_test_encoded\n",
        "print(\"XGBoost F1 Score:\", f1_score(y_test_encoded, y_pred_xgb, average='weighted')) # Use y_test_encoded\n",
        "\n",
        "# Confusion Matrix - Use y_test_encoded for confusion matrix\n",
        "cm = confusion_matrix(y_test_encoded, y_pred_xgb) # Use y_test_encoded\n",
        "sns.heatmap(cm, annot=True, fmt='d', cmap='Blues')\n",
        "plt.title(\"XGBoost Confusion Matrix\")\n",
        "plt.xlabel(\"Predicted\")\n",
        "plt.ylabel(\"Actual\")\n",
        "plt.show()"
      ]
    },
    {
      "cell_type": "code",
      "execution_count": null,
      "metadata": {
        "colab": {
          "base_uri": "https://localhost:8080/"
        },
        "id": "3zOaJwWFz4kq",
        "outputId": "51d17e8f-b2a5-42f9-8930-5db4cf3b346e"
      },
      "outputs": [
        {
          "name": "stdout",
          "output_type": "stream",
          "text": [
            "Requirement already satisfied: imbalanced-learn in /usr/local/lib/python3.11/dist-packages (0.13.0)\n",
            "Requirement already satisfied: numpy<3,>=1.24.3 in /usr/local/lib/python3.11/dist-packages (from imbalanced-learn) (2.0.2)\n",
            "Requirement already satisfied: scipy<2,>=1.10.1 in /usr/local/lib/python3.11/dist-packages (from imbalanced-learn) (1.14.1)\n",
            "Requirement already satisfied: scikit-learn<2,>=1.3.2 in /usr/local/lib/python3.11/dist-packages (from imbalanced-learn) (1.6.1)\n",
            "Requirement already satisfied: sklearn-compat<1,>=0.1 in /usr/local/lib/python3.11/dist-packages (from imbalanced-learn) (0.1.3)\n",
            "Requirement already satisfied: joblib<2,>=1.1.1 in /usr/local/lib/python3.11/dist-packages (from imbalanced-learn) (1.4.2)\n",
            "Requirement already satisfied: threadpoolctl<4,>=2.0.0 in /usr/local/lib/python3.11/dist-packages (from imbalanced-learn) (3.6.0)\n"
          ]
        }
      ],
      "source": [
        "!pip install imbalanced-learn"
      ]
    },
    {
      "cell_type": "code",
      "execution_count": null,
      "metadata": {
        "colab": {
          "background_save": true,
          "base_uri": "https://localhost:8080/"
        },
        "id": "GpKUu7svylud",
        "outputId": "0cf9b624-9d00-44ad-9975-28b4f4b5f621"
      },
      "outputs": [
        {
          "name": "stdout",
          "output_type": "stream",
          "text": [
            "Fitting 5 folds for each of 25 candidates, totalling 125 fits\n"
          ]
        },
        {
          "name": "stderr",
          "output_type": "stream",
          "text": [
            "/usr/local/lib/python3.11/dist-packages/xgboost/core.py:158: UserWarning: [20:16:47] WARNING: /workspace/src/learner.cc:740: \n",
            "Parameters: { \"use_label_encoder\" } are not used.\n",
            "\n",
            "  warnings.warn(smsg, UserWarning)\n"
          ]
        },
        {
          "name": "stdout",
          "output_type": "stream",
          "text": [
            " Best Hyperparameters:\n",
            " {'classifier__colsample_bytree': np.float64(0.8159364365206693), 'classifier__gamma': np.float64(1.015306123673847), 'classifier__learning_rate': np.float64(0.1985707141115962), 'classifier__max_depth': 9, 'classifier__n_estimators': 286, 'classifier__subsample': np.float64(0.8779139732158818)}\n",
            "\n",
            " Classification Report:\n",
            "              precision    recall  f1-score\n",
            "0              0.891395  0.994470  0.940116\n",
            "1              0.444444  0.035227  0.065279\n",
            "accuracy       0.887442  0.887442  0.887442\n",
            "macro avg      0.667920  0.514848  0.502698\n",
            "weighted avg   0.841526  0.887442  0.842506\n",
            "\n",
            "Recall Score (Weighted): 0.8874422717893289\n",
            " F1 Score (Weighted): 0.8425055960879776\n"
          ]
        },
        {
          "data": {
            "image/png": "[encoded data removed]",
            "text/plain": [
              "<Figure size 600x400 with 2 Axes>"
            ]
          },
          "metadata": {},
          "output_type": "display_data"
        }
      ],
      "source": [
        "from imblearn.pipeline import Pipeline\n",
        "from xgboost import XGBClassifier\n",
        "from sklearn.model_selection import train_test_split, StratifiedKFold, RandomizedSearchCV\n",
        "from sklearn.metrics import classification_report, recall_score, f1_score, confusion_matrix\n",
        "from scipy.stats import randint, uniform\n",
        "import seaborn as sns\n",
        "import matplotlib.pyplot as plt\n",
        "import pandas as pd\n",
        "\n",
        "# Define pipeline\n",
        "pipeline = Pipeline([\n",
        "    ('preprocessor', preprocessor),\n",
        "    ('classifier', XGBClassifier(\n",
        "        use_label_encoder=False,\n",
        "        eval_metric='logloss',\n",
        "        random_state=42\n",
        "    ))\n",
        "])\n",
        "\n",
        "# Define parameter search space\n",
        "param_dist = {\n",
        "    \"classifier__n_estimators\": randint(100, 300),\n",
        "    \"classifier__max_depth\": randint(3, 10),\n",
        "    \"classifier__learning_rate\": uniform(0.01, 0.2),\n",
        "    \"classifier__subsample\": uniform(0.6, 0.4),\n",
        "    \"classifier__colsample_bytree\": uniform(0.6, 0.4),\n",
        "    \"classifier__gamma\": uniform(0, 5)\n",
        "}\n",
        "\n",
        "# Cross-validator\n",
        "cv = StratifiedKFold(n_splits=5, shuffle=True, random_state=42)\n",
        "\n",
        "# Randomized search\n",
        "search = RandomizedSearchCV(\n",
        "    pipeline,\n",
        "    param_distributions=param_dist,\n",
        "    n_iter=25,\n",
        "    cv=cv,\n",
        "    scoring='f1_weighted',\n",
        "    n_jobs=-1,\n",
        "    random_state=42,\n",
        "    verbose=1\n",
        ")\n",
        "\n",
        "# Fit model\n",
        "search.fit(X_train, y_train)\n",
        "best_model = search.best_estimator_\n",
        "\n",
        "# Predict\n",
        "y_pred = best_model.predict(X_test)\n",
        "\n",
        "# Evaluation\n",
        "print(\" Best Hyperparameters:\\n\", search.best_params_)\n",
        "print(\"\\n Classification Report:\")\n",
        "report = classification_report(y_test, y_pred, output_dict=True)\n",
        "print(pd.DataFrame(report).transpose()[['precision', 'recall', 'f1-score']])\n",
        "\n",
        "# Optional: print only class-specific scores\n",
        "print(\"\\nRecall Score (Weighted):\", recall_score(y_test, y_pred, average='weighted'))\n",
        "print(\" F1 Score (Weighted):\", f1_score(y_test, y_pred, average='weighted'))\n",
        "\n",
        "# Confusion matrix\n",
        "plt.figure(figsize=(6,4))\n",
        "sns.heatmap(confusion_matrix(y_test, y_pred), annot=True, cmap=\"Blues\", fmt='d')\n",
        "plt.title(\"XGBoost Confusion Matrix\")\n",
        "plt.xlabel(\"Predicted\")\n",
        "plt.ylabel(\"Actual\")\n",
        "plt.tight_layout()\n",
        "plt.show()\n"
      ]
    }
  ],
  "metadata": {
    "colab": {
      "provenance": []
    },
    "kernelspec": {
      "display_name": "Python 3",
      "name": "python3"
    },
    "language_info": {
      "name": "python"
    }
  },
  "nbformat": 4,
  "nbformat_minor": 0
}